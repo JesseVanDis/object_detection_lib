{
  "nbformat": 4,
  "nbformat_minor": 0,
  "metadata": {
    "colab": {
      "name": "train.ipynb",
      "provenance": []
    },
    "kernelspec": {
      "name": "python3",
      "display_name": "Python 3"
    },
    "language_info": {
      "name": "python"
    }
  },
  "cells": [
    {
      "cell_type": "markdown",
      "source": [
        "This notebook will train on given images.\n",
        "\n",
        "To do so, make sure the runtime is set to 'GPU'\n",
        "before you 'run all'\n",
        "\n",
        "Afterwards, you just wait. sip tea or stare at a wall or something"
      ],
      "metadata": {
        "id": "Hu2epXuvLMK5"
      }
    },
    {
      "cell_type": "code",
      "source": [
        "!apt update\n",
        "!apt install -y cmake"
      ],
      "metadata": {
        "id": "CDgcuxK-YBau"
      },
      "execution_count": null,
      "outputs": []
    },
    {
      "cell_type": "code",
      "execution_count": null,
      "metadata": {
        "id": "T_v6pTq8HsJg"
      },
      "outputs": [],
      "source": [
        "import os\n",
        "#%rm -rdf ./object_detection_lib\n",
        "!git clone https://github.com/JesseVanDis/object_detection_lib.git\n",
        "os.chdir('object_detection_lib')\n",
        "!git submodule update --init"
      ]
    },
    {
      "cell_type": "code",
      "source": [
        "#!rm -rdf /content/object_detection_lib/build\n",
        "os.makedirs('/content/object_detection_lib/build', 0o777, True)\n",
        "os.chdir('/content/object_detection_lib/build')\n",
        "!cmake ../"
      ],
      "metadata": {
        "id": "Q9JRapZ0W_ZT"
      },
      "execution_count": null,
      "outputs": []
    }
  ]
}