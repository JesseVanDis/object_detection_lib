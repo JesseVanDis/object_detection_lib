{
  "nbformat": 4,
  "nbformat_minor": 0,
  "metadata": {
    "colab": {
      "name": "train.ipynb",
      "provenance": []
    },
    "kernelspec": {
      "name": "python3",
      "display_name": "Python 3"
    },
    "language_info": {
      "name": "python"
    }
  },
  "cells": [
    {
      "cell_type": "markdown",
      "source": [
        "This notebook will train on given images.\n",
        "\n",
        "To do so, make sure the runtime is set to 'GPU'\n",
        "before you 'run all'\n",
        "\n",
        "Afterwards, you just wait. sip tea or stare at a wall or something"
      ],
      "metadata": {
        "id": "Hu2epXuvLMK5"
      }
    },
    {
      "cell_type": "code",
      "source": [
        "#@title Source (host:port)\n",
        "#@markdown leave empty to take 'browser-client-ip:8086'\n",
        "source = '' #@param {type:\"string\"}\n",
        "if(source == ''):\n",
        "  import IPython\n",
        "  from google.colab import output\n",
        "  display(IPython.display.Javascript('''window.get_ip = new Promise(resolve => { setTimeout(() => { var xmlHttp = new XMLHttpRequest(); xmlHttp.open( \"GET\", \"https://api.ipify.org\", false ); xmlHttp.send( null ); resolve(xmlHttp.responseText);}, 100);});'''))\n",
        "  source = \"http://\" + output.eval_js('get_ip') + \":8086\";\n",
        "print(\"source set to: '\" + source + \"'\")  "
      ],
      "metadata": {
        "id": "SsDORfP96NYJ"
      },
      "execution_count": null,
      "outputs": []
    },
    {
      "cell_type": "code",
      "source": [
        "# Switch the Colab C++ compiler to g++-9.\n",
        "!sudo add-apt-repository -y ppa:ubuntu-toolchain-r/test\n",
        "!sudo apt update\n",
        "!sudo apt install gcc-9 g++-9\n",
        "!update-alternatives --install /usr/bin/gcc gcc /usr/bin/gcc-9 50\n",
        "!update-alternatives --install /usr/bin/g++ g++ /usr/bin/g++-9 50\n",
        "\n",
        "# other dependencies\n",
        "!apt install -y cmake\n",
        "\n",
        "# optional bonus stuff.\n",
        "!python -m pip install fiftyone"
      ],
      "metadata": {
        "id": "CDgcuxK-YBau"
      },
      "execution_count": null,
      "outputs": []
    },
    {
      "cell_type": "code",
      "execution_count": null,
      "metadata": {
        "id": "T_v6pTq8HsJg"
      },
      "outputs": [],
      "source": [
        "import os\n",
        "os.chdir('/content')\n",
        "%rm -rdf ./object_detection_lib\n",
        "!git clone https://github.com/JesseVanDis/object_detection_lib.git\n",
        "os.chdir('object_detection_lib')\n",
        "!git submodule update --init"
      ]
    },
    {
      "cell_type": "code",
      "source": [
        "#!rm -rdf /content/object_detection_lib/build\n",
        "os.makedirs('/content/object_detection_lib/build', 0o777, True)\n",
        "os.chdir('/content/object_detection_lib/build')\n",
        "!cmake ../"
      ],
      "metadata": {
        "id": "Q9JRapZ0W_ZT"
      },
      "execution_count": null,
      "outputs": []
    },
    {
      "cell_type": "code",
      "source": [
        "os.chdir('/content/object_detection_lib/build')\n",
        "!make -j`nproc` object_detection_cli"
      ],
      "metadata": {
        "id": "x8hBsjy3e6b7"
      },
      "execution_count": null,
      "outputs": []
    },
    {
      "cell_type": "code",
      "source": [
        "os.chdir('/content/object_detection_lib/build/src')\n",
        "#print(\"object_detection_cli --train_yolov3 ${source}\")\n",
        "os.execl\n",
        "!./object_detection_cli --train_yolov3 {source}"
      ],
      "metadata": {
        "id": "OihMgF63DbXA"
      },
      "execution_count": null,
      "outputs": []
    }
  ]
}