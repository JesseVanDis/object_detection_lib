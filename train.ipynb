{
  "nbformat": 4,
  "nbformat_minor": 0,
  "metadata": {
    "colab": {
      "name": "train.ipynb",
      "provenance": []
    },
    "kernelspec": {
      "name": "python3",
      "display_name": "Python 3"
    },
    "language_info": {
      "name": "python"
    }
  },
  "cells": [
    {
      "cell_type": "markdown",
      "source": [
        "This notebook will train on given images.\n",
        "\n",
        "To do so, make sure the runtime is set to 'GPU'\n",
        "before you 'run all'\n",
        "\n",
        "Afterwards, you just wait. sip tea or stare at a wall or something"
      ],
      "metadata": {
        "id": "Hu2epXuvLMK5"
      }
    },
    {
      "cell_type": "code",
      "execution_count": null,
      "metadata": {
        "id": "T_v6pTq8HsJg"
      },
      "outputs": [],
      "source": [
        "!git clone https://github.com/JesseVanDis/object_detection_lib.git\n",
        "%cd ./object_detection_lib\n",
        "!git submodule update --init"
      ]
    }
  ]
}